{
  "nbformat": 4,
  "nbformat_minor": 0,
  "metadata": {
    "colab": {
      "provenance": []
    },
    "kernelspec": {
      "name": "python3",
      "display_name": "Python 3"
    },
    "language_info": {
      "name": "python"
    }
  },
  "cells": [
    {
      "cell_type": "code",
      "execution_count": null,
      "metadata": {
        "id": "LgPD4ryMwOxC"
      },
      "outputs": [],
      "source": []
    },
    {
      "cell_type": "markdown",
      "source": [
        "# Function\n",
        "\n"
      ],
      "metadata": {
        "id": "IFfVa38BwQFb"
      }
    },
    {
      "cell_type": "markdown",
      "source": [
        "1. What is diffarance between functions and a method in python .\n",
        "  - ans abc ...\n",
        "2. second questions\n",
        "  - ans  efg .."
      ],
      "metadata": {
        "id": "tsg5RruwxLiE"
      }
    },
    {
      "cell_type": "code",
      "source": [
        "# question\n",
        "...\n",
        "this is answer\n",
        "..."
      ],
      "metadata": {
        "id": "Xr7uBez6yipe"
      },
      "execution_count": null,
      "outputs": []
    }
  ]
}